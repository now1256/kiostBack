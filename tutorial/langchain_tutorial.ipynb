{
 "cells": [
  {
   "cell_type": "markdown",
   "id": "280d9852-3720-4270-8297-ac38746642a7",
   "metadata": {},
   "source": [
    "<h1>langchain의 tutorial 문서</h1>"
   ]
  },
  {
   "cell_type": "markdown",
   "id": "52f46827-a382-4962-9618-715d27c68ade",
   "metadata": {},
   "source": [
    "<h2>Installation </h2>\n",
    "python = 3.9 <br/>\n",
    "pip install langchain <br/>"
   ]
  },
  {
   "cell_type": "markdown",
   "id": "3ec66e29-e91f-4414-b896-4387fb0906a3",
   "metadata": {},
   "source": [
    "<h2>Lang chain tutorial </h2> \n",
    "프롬프트 + 모델 + 출력파서를 서로 결합해서 출력 다른 기능이 필요하면 결합해서 사용 가능"
   ]
  },
  {
   "cell_type": "code",
   "execution_count": 2,
   "id": "bce867f2-b3d6-477c-a4ac-a2d92b116c43",
   "metadata": {},
   "outputs": [
    {
     "name": "stdin",
     "output_type": "stream",
     "text": [
      " ········\n"
     ]
    }
   ],
   "source": [
    "# open_api_key 필요\n",
    "import os\n",
    "import getpass\n",
    "from langchain_openai import ChatOpenAI\n",
    "os.environ[\"OPENAI_API_KEY\"] = getpass.getpass()"
   ]
  },
  {
   "cell_type": "code",
   "execution_count": 16,
   "id": "bf975b9e-515f-4c4a-be96-9a5d2a178477",
   "metadata": {},
   "outputs": [
    {
     "data": {
      "text/plain": [
       "ChatPromptTemplate(input_variables=['input'], messages=[HumanMessagePromptTemplate(prompt=PromptTemplate(input_variables=['input'], template='<Question>: {input}'))])"
      ]
     },
     "execution_count": 16,
     "metadata": {},
     "output_type": "execute_result"
    }
   ],
   "source": [
    "# tutorial \n",
    "from langchain_core.prompts import ChatPromptTemplate\n",
    "# prompt 정의 \n",
    "prompt = ChatPromptTemplate.from_template( \"<Question>: {input}\")\n",
    "prompt"
   ]
  },
  {
   "cell_type": "code",
   "execution_count": 47,
   "id": "5c278bc9-07c5-49cf-830f-90fc0116858d",
   "metadata": {},
   "outputs": [],
   "source": [
    "# LLM model 선언 \n",
    "from langchain_openai import ChatOpenAI\n",
    "model = ChatOpenAI(\n",
    "    model=\"gpt-3.5-turbo\",\n",
    "    max_tokens=2048,\n",
    "    temperature=0,\n",
    ")"
   ]
  },
  {
   "cell_type": "code",
   "execution_count": 7,
   "id": "d78c8e61-f6dc-4036-aefe-210f641d4ab2",
   "metadata": {},
   "outputs": [],
   "source": [
    "# 출력 parser 정의 \n",
    "from langchain_core.output_parsers import StrOutputParser\n",
    "output = StrOutputParser()"
   ]
  },
  {
   "cell_type": "code",
   "execution_count": 19,
   "id": "09370c5c-753a-4788-b3d3-e179ee0b79dd",
   "metadata": {},
   "outputs": [],
   "source": [
    "# 구성요소들을 단일 체인으로 결합 \n",
    "chain = prompt | model | output"
   ]
  },
  {
   "cell_type": "code",
   "execution_count": 20,
   "id": "c779488b-cfae-41fc-9f62-b9f78f022a80",
   "metadata": {},
   "outputs": [
    {
     "data": {
      "text/plain": [
       "'지구의 자전 주기는 약 24시간입니다. 이는 지구가 자전하는 데 걸리는 시간으로, 하루 동안 지구가 한 번 자전하는 것을 의미합니다. 이러한 자전은 지구의 자전축 주위를 돌면서 발생하며, 지구의 일정한 속도로 회전하고 있는 것을 나타냅니다.'"
      ]
     },
     "execution_count": 20,
     "metadata": {},
     "output_type": "execute_result"
    }
   ],
   "source": [
    "# chain 호출\n",
    "chain.invoke({\"input\": \"지구의 자전 주기는?\"})"
   ]
  },
  {
   "cell_type": "markdown",
   "id": "9928ec1b-03ba-43c6-9dad-4249edbfbed6",
   "metadata": {},
   "source": [
    "<h2>Lang chain nlp - sql tutorial </h2> "
   ]
  },
  {
   "cell_type": "code",
   "execution_count": 22,
   "id": "f59e3285-09b8-4335-9168-2372588103dd",
   "metadata": {},
   "outputs": [],
   "source": [
    "# db는 sqlite만 지원 \n",
    "from langchain_community.utilities import SQLDatabase\n",
    "db = SQLDatabase.from_uri(\"sqlite:///coffee.db\")"
   ]
  },
  {
   "cell_type": "code",
   "execution_count": 32,
   "id": "704237d8-3520-4b67-9eb1-df36ab8b6e61",
   "metadata": {},
   "outputs": [
    {
     "name": "stdout",
     "output_type": "stream",
     "text": [
      "sqlite\n",
      "[]\n"
     ]
    },
    {
     "data": {
      "text/plain": [
       "\"[('menu',)]\""
      ]
     },
     "execution_count": 32,
     "metadata": {},
     "output_type": "execute_result"
    }
   ],
   "source": [
    "print(db.dialect)\n",
    "print(db.get_usable_table_names())\n",
    "db.run(\"SELECT name FROM sqlite_master WHERE type='table';\")"
   ]
  },
  {
   "cell_type": "code",
   "execution_count": 29,
   "id": "07017484-bfc2-40f6-836e-105455d11bff",
   "metadata": {},
   "outputs": [],
   "source": [
    "from langchain.chains import create_sql_query_chain\n",
    "from langchain_openai import ChatOpenAI\n",
    "llm = ChatOpenAI(model=\"gpt-3.5-turbo\", temperature=0)\n",
    "# chain 결합 \n",
    "chain = create_sql_query_chain(llm, db)"
   ]
  },
  {
   "cell_type": "code",
   "execution_count": 30,
   "id": "33d8e4d5-a9fd-4aa0-ba1d-f94d4a9158ff",
   "metadata": {},
   "outputs": [
    {
     "name": "stdout",
     "output_type": "stream",
     "text": [
      "SELECT \"item_name\" \n",
      "FROM \"menu_items\"\n",
      "LIMIT 5;\n"
     ]
    }
   ],
   "source": [
    "response = chain.invoke({\"question\": \"What are the names of the items on the menu?\"})\n",
    "print(response)"
   ]
  },
  {
   "cell_type": "code",
   "execution_count": null,
   "id": "12753fe1-e009-4bac-a559-3336db8a8d63",
   "metadata": {
    "scrolled": true
   },
   "outputs": [],
   "source": [
    "db.run(response)"
   ]
  },
  {
   "cell_type": "markdown",
   "id": "4394ad72-e386-4b7e-9cbb-379c1d6d1458",
   "metadata": {},
   "source": [
    "<h2>Lang chain prompt-engineering</h2> "
   ]
  },
  {
   "cell_type": "code",
   "execution_count": 42,
   "id": "7dc3077b-ba52-4438-861a-90837f62fbc3",
   "metadata": {},
   "outputs": [],
   "source": [
    "examples = [\n",
    "    {\n",
    "        \"instruction\": \"행동을 정의해주세요\",\n",
    "        \"input\": \"아메리카노 한잔 따뜻하게 주세요  \",\n",
    "        \"answer\": \"\"\"\n",
    "{\"menu\": \"아메리카노\"\n",
    "\"amount\" : 1\n",
    "\"temperature\" : \"hot\"\n",
    "\"action\" : \"order\"}\n",
    "\"\"\",\n",
    "    },\n",
    "    \n",
    "    {\n",
    "      \"instruction\": \"행동을 정의해주세요\",\n",
    "        \"input\": \"라떼 두잔 차갑게 주세요  \",\n",
    "        \"answer\": \"\"\"\n",
    "{\"menu\": \"라떼\"\n",
    "\"amount\" : 2\n",
    "\"temperature\" : \"ice\"\n",
    "\"action\" : \"order\"\n",
    "}\"\"\" ,\n",
    "    },\n",
    "{\n",
    "      \"instruction\": \"행동을 정의해주세요\",\n",
    "        \"input\": \"아이스라떼 두잔 주세요  \",\n",
    "        \"answer\": \"\"\"{\n",
    "\"menu\": \"라떼\"\n",
    "\"amount\" : 2\n",
    "\"temperature\" : \"ice\"\n",
    "\"action\" : \"order\"\n",
    "}\n",
    "\"\"\" ,\n",
    "    },\n",
    "    \n",
    "    {\n",
    "      \"instruction\": \"행동을 정의해주세요\",\n",
    "        \"input\": \"아이스아메리카노 두잔 주세요  \",\n",
    "        \"answer\": \"\"\"\n",
    "{\"menu\": \"아메리카노\"\n",
    "\"amount\" : 2\n",
    "\"temperature\" : \"ice\"\n",
    "\"action\" : \"order\"}\n",
    "\"\"\" ,\n",
    "        \n",
    "    },\n",
    "    \n",
    "    {\n",
    "\"instruction\": \"행동을 정의해주세요\",\n",
    "\"input\": \"메뉴판 보여주세요.\",\n",
    "\"answer\": \"\"\"\n",
    "{\"action\": \"menu\"}\n",
    "\"\"\",    \n",
    "    },\n",
    "    \n",
    "     {\n",
    "\"instruction\": \"행동을 정의해주세요\",\n",
    "\"input\": \"가게 메뉴 알려주세요 .\",\n",
    "\"answer\": \"\"\"\n",
    "{\"action\": \"menu\"}\n",
    "\"\"\",    \n",
    "    },\n",
    "\n",
    "         {\n",
    "\"instruction\": \"행동을 정의해 주세요\",\n",
    "\"input\": \"메뉴판 보여줘 .\",\n",
    "\"answer\": \"\"\"\n",
    "{\"action\": \"menu\"}\n",
    "\"\"\",    \n",
    "    },\n",
    "    \n",
    "]"
   ]
  },
  {
   "cell_type": "code",
   "execution_count": 35,
   "id": "e6c44d1c-abb7-4124-af0d-1cd80c30cfcd",
   "metadata": {},
   "outputs": [],
   "source": [
    "from langchain.prompts import ChatPromptTemplate, FewShotChatMessagePromptTemplate\n",
    "\n",
    "example_prompt = ChatPromptTemplate.from_messages(\n",
    "    [\n",
    "        (\"human\", \"{input}\")\n",
    "        (\"ai\", \"{answer}\"),\n",
    "    ]\n",
    ")\n",
    "\n",
    "few_shot_prompt = FewShotChatMessagePromptTemplate(\n",
    "    example_prompt=example_prompt,\n",
    "    examples=examples,\n",
    ")"
   ]
  },
  {
   "cell_type": "code",
   "execution_count": 51,
   "id": "b43819b7-8977-4b49-925c-a7a2b80651c1",
   "metadata": {},
   "outputs": [],
   "source": [
    "final_prompt = ChatPromptTemplate.from_messages(\n",
    "    [\n",
    "        few_shot_prompt,\n",
    "        (\"human\", \"{instruction}\\n{input}\"),\n",
    "    ]\n",
    ")"
   ]
  },
  {
   "cell_type": "code",
   "execution_count": 52,
   "id": "ab0ee948-e06a-4e19-8ab1-15c2353f62be",
   "metadata": {},
   "outputs": [],
   "source": [
    "chain = final_prompt | llm"
   ]
  },
  {
   "cell_type": "code",
   "execution_count": 53,
   "id": "9125c16a-82ae-44a6-bad0-1a3892d4a866",
   "metadata": {},
   "outputs": [
    {
     "name": "stdout",
     "output_type": "stream",
     "text": [
      "{\"action\": \"menu\"}\n"
     ]
    }
   ],
   "source": [
    "response = chain.invoke(\n",
    "    {\n",
    "        \"instruction\": \"행동을 정의해주세요\",\n",
    "        \"input\": \"카페 메뉴 보여주세요\",\n",
    "    }\n",
    ")\n",
    "\n",
    "print(response.content)"
   ]
  },
  {
   "cell_type": "code",
   "execution_count": 56,
   "id": "33acf8ad-bb2f-4a12-acb7-316c95b4847c",
   "metadata": {},
   "outputs": [
    {
     "name": "stdout",
     "output_type": "stream",
     "text": [
      "{\"menu\": \"아메리카노\"\n",
      "\"amount\" : 1\n",
      "\"temperature\" : \"hot\"\n",
      "\"action\" : \"order\"}\n"
     ]
    }
   ],
   "source": [
    "response = chain.invoke(\n",
    "    {\n",
    "        \"instruction\": \"행동을 정의해주세요\",\n",
    "        \"input\": \"아메리카노 주세요 \",\n",
    "    }\n",
    ")\n",
    "\n",
    "print(response.content)"
   ]
  },
  {
   "cell_type": "code",
   "execution_count": null,
   "id": "97271b1b-9215-4d2e-9201-52383da25976",
   "metadata": {},
   "outputs": [],
   "source": []
  }
 ],
 "metadata": {
  "kernelspec": {
   "display_name": "langflow",
   "language": "python",
   "name": "langflow"
  },
  "language_info": {
   "codemirror_mode": {
    "name": "ipython",
    "version": 3
   },
   "file_extension": ".py",
   "mimetype": "text/x-python",
   "name": "python",
   "nbconvert_exporter": "python",
   "pygments_lexer": "ipython3",
   "version": "3.10.14"
  }
 },
 "nbformat": 4,
 "nbformat_minor": 5
}
