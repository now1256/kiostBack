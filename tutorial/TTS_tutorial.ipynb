{
 "cells": [
  {
   "cell_type": "markdown",
   "id": "91f29652-b834-4959-b880-88a4a57cc6e2",
   "metadata": {},
   "source": [
    "<h1>TTS의 tutorial 문서</h1>"
   ]
  },
  {
   "cell_type": "markdown",
   "id": "b069fb86-86df-480d-aa0f-950d57905f6d",
   "metadata": {},
   "source": [
    "<h2>Installation </h2>\n",
    "pip install RealtimeTTS<br/>\n",
    "pip install ffmpeg (conda의 경우 conda install -c menpo ffmpeg) <- install error가 많이나는편 <br/>\n",
    "pip install torch==2.1.1+cu118 torchaudio==2.1.1+cu118 --index-url https://download.pytorch.org/whl/cu118<br/>\n",
    "OPENAI_API_KEY = \"\" 필요<br/>"
   ]
  },
  {
   "cell_type": "code",
   "execution_count": 2,
   "id": "265caff0-0d03-4799-a943-021faffb1d63",
   "metadata": {},
   "outputs": [
    {
     "name": "stdout",
     "output_type": "stream",
     "text": [
      "2.1.2+cpu\n"
     ]
    }
   ],
   "source": [
    "import torch\n",
    "print(torch.__version__)"
   ]
  },
  {
   "cell_type": "code",
   "execution_count": 7,
   "id": "d5eafdb6-1b1d-4592-ac1f-d7a788ff50d2",
   "metadata": {},
   "outputs": [],
   "source": [
    "# tutorial systemEngine의 경우 한글은 안됌 \n",
    "from RealtimeTTS import TextToAudioStream, SystemEngine, AzureEngine, ElevenlabsEngine\n",
    "engine = SystemEngine() # replace with your TTS engine\n",
    "stream = TextToAudioStream(engine)\n",
    "stream.feed(\"Hello world! How are you today?\")\n",
    "stream.play_async()"
   ]
  },
  {
   "cell_type": "code",
   "execution_count": 6,
   "id": "adbefd64-c0b3-4c21-90ba-00a29cdce1f4",
   "metadata": {},
   "outputs": [],
   "source": [
    "# use openai engine open ai의 경우 위의 OPENAI_API_KEY가 필요 \n",
    "from RealtimeTTS import TextToAudioStream, OpenAIEngine, AzureEngine, ElevenlabsEngine\n",
    "engine = OpenAIEngine() # replace with your TTS engine\n",
    "stream = TextToAudioStream(engine)\n",
    "stream.feed(\"안녕하세요\")\n",
    "stream.play_async()"
   ]
  }
 ],
 "metadata": {
  "kernelspec": {
   "display_name": "py3.9",
   "language": "python",
   "name": "py3.9"
  },
  "language_info": {
   "codemirror_mode": {
    "name": "ipython",
    "version": 3
   },
   "file_extension": ".py",
   "mimetype": "text/x-python",
   "name": "python",
   "nbconvert_exporter": "python",
   "pygments_lexer": "ipython3",
   "version": "3.9.18"
  }
 },
 "nbformat": 4,
 "nbformat_minor": 5
}
