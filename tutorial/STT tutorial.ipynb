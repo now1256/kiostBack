{
 "cells": [
  {
   "cell_type": "markdown",
   "id": "9d890db2-c32c-4e24-8288-5d8ea5e74d21",
   "metadata": {},
   "source": [
    "<h1>STT의 tutorial 문서</h1>"
   ]
  },
  {
   "cell_type": "markdown",
   "id": "4314eb9c-7039-4d77-afbe-b00a65dd4d24",
   "metadata": {},
   "source": [
    "<h2>Installation </h2>\n",
    "pip install RealtimeTTS <br/>\n",
    "pip install ffmpeg (conda의 경우 conda install -c menpo ffmpeg) <- install error가 많이나는편 <br/>\n",
    "pip install torch==2.1.1+cu118 torchaudio==2.1.1+cu118 --index-url https://download.pytorch.org/whl/cu118<br/>"
   ]
  },
  {
   "cell_type": "markdown",
   "id": "bf8803a0-697e-4c26-a7be-5279abf729e7",
   "metadata": {},
   "source": [
    "<h2>Real Time speak to text</h2>"
   ]
  },
  {
   "cell_type": "code",
   "execution_count": 1,
   "id": "48f28df8-14ab-44ad-9d59-47d37016a706",
   "metadata": {},
   "outputs": [],
   "source": [
    "from RealtimeSTT import AudioToTextRecorder"
   ]
  },
  {
   "cell_type": "code",
   "execution_count": 3,
   "id": "8fa34ced-274a-43c6-b52d-826789fd94d2",
   "metadata": {},
   "outputs": [],
   "source": [
    "whisper_speech_to_text_model = \"medium\""
   ]
  },
  {
   "cell_type": "code",
   "execution_count": 4,
   "id": "652d03c5-d116-4493-9c9d-ab6058d26ddc",
   "metadata": {},
   "outputs": [],
   "source": [
    "#STT model 선언\n",
    "recorder = AudioToTextRecorder(spinner=False, model=whisper_speech_to_text_model)"
   ]
  },
  {
   "cell_type": "code",
   "execution_count": null,
   "id": "9f106298-1874-4578-bfb3-4c0f5a7afe68",
   "metadata": {},
   "outputs": [],
   "source": [
    "# wake words라는 parameter로 시작을 조정할 수 있음 \n",
    "recorder = AudioToTextRecorder(wake_words=\"jarvis\")\n",
    "\n",
    "print('Say \"Jarvis\" then speak.')\n",
    "print(recorder.text())"
   ]
  },
  {
   "cell_type": "code",
   "execution_count": null,
   "id": "a75dcf47-9216-4ecf-9b59-de331cbbca31",
   "metadata": {},
   "outputs": [],
   "source": [
    "# keyboard를 통해 음성녹음의 동작을 제어할수 있음 \n",
    "import keyboard\n",
    "import time\n",
    "while True:\n",
    "    # Wait until user presses space bar\n",
    "    print(\" space를 눌러서 시작을 해주세요. \", end=\"\", flush=True)\n",
    "    keyboard.wait('space')\n",
    "    while keyboard.is_pressed('space'): pass\n",
    "\n",
    "    # Record from microphone until user presses space bar again\n",
    "    print(\"음성을 듣고있습니다 완료되면 space를 눌러주세요 .\\n\")\n",
    "    recorder.start()     \n",
    "    while not keyboard.is_pressed('space'):     \n",
    "        time.sleep(0.1)   \n",
    "    user_text = recorder.stop().text()  \n",
    "    print(user_text)"
   ]
  },
  {
   "cell_type": "markdown",
   "id": "97f7d9a9-0eec-44fb-951e-4db87b7e57df",
   "metadata": {},
   "source": [
    "<h3>Whisper wav translate</h3>"
   ]
  },
  {
   "cell_type": "code",
   "execution_count": 14,
   "id": "561ba499-0bd3-4cef-a5fd-36e2f4b66e57",
   "metadata": {},
   "outputs": [],
   "source": [
    "# open api key 필요 \n",
    "from openai import OpenAI\n",
    "API_KEY = \"\"\n",
    "client = OpenAI(api_key=API_KEY)"
   ]
  },
  {
   "cell_type": "code",
   "execution_count": 15,
   "id": "c9f23278-f603-469f-9031-d06708811705",
   "metadata": {},
   "outputs": [],
   "source": [
    "# wav 파일을 text로 읽어옴 \n",
    "audio_file= open(\"file.path\", \"rb\")\n",
    "transcription = client.audio.transcriptions.create(\n",
    "  model=\"whisper-1\", \n",
    "  file=audio_file\n",
    ")\n",
    "user_input_hello = transcription.text"
   ]
  },
  {
   "cell_type": "code",
   "execution_count": 16,
   "id": "40b9ad8f-3e53-4b19-8b19-c12848e853a0",
   "metadata": {},
   "outputs": [
    {
     "data": {
      "text/plain": [
       "'커피 주문하려고 하는데 아메리카노 한 잔 주세요'"
      ]
     },
     "execution_count": 16,
     "metadata": {},
     "output_type": "execute_result"
    }
   ],
   "source": [
    "user_input_hello"
   ]
  }
 ],
 "metadata": {
  "kernelspec": {
   "display_name": "py3.9",
   "language": "python",
   "name": "py3.9"
  },
  "language_info": {
   "codemirror_mode": {
    "name": "ipython",
    "version": 3
   },
   "file_extension": ".py",
   "mimetype": "text/x-python",
   "name": "python",
   "nbconvert_exporter": "python",
   "pygments_lexer": "ipython3",
   "version": "3.9.18"
  }
 },
 "nbformat": 4,
 "nbformat_minor": 5
}
